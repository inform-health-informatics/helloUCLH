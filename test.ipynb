{
 "cells": [
  {
   "cell_type": "code",
   "execution_count": 1,
   "metadata": {},
   "outputs": [
    {
     "name": "stdout",
     "output_type": "stream",
     "text": [
      "\n",
      "Hello Niall\n",
      "\n"
     ]
    },
    {
     "name": "stdin",
     "output_type": "stream",
     "text": [
      "Shall I continue?  yes\n"
     ]
    },
    {
     "name": "stdout",
     "output_type": "stream",
     "text": [
      "\n",
      "\n",
      "EMAP has been built\n",
      "\n",
      "    ... here at UCLH\n",
      "\n",
      "    ... for the NHS\n",
      "\n",
      "according to the following principles ...\n",
      "\n",
      "\n",
      "1. Protection of operational systems\n",
      "2. Protection of patient privacy:\n",
      "   A 'code to data' rather than 'data to code' paradigm\n",
      "3. Near real-time over retrospective batch loads\n",
      "4. Interoperability for semantic collaboration\n",
      "5. Scalable through open source\n",
      "\n",
      "Thank you and goodbye\n",
      "\n"
     ]
    }
   ],
   "source": [
    "%run code/helloUCLH.py"
   ]
  },
  {
   "cell_type": "code",
   "execution_count": 3,
   "metadata": {},
   "outputs": [],
   "source": [
    "%run code/ids_demo.py"
   ]
  },
  {
   "cell_type": "code",
   "execution_count": 5,
   "metadata": {},
   "outputs": [
    {
     "data": {
      "text/plain": [
       "'host=172.16.149.131 dbname=ids_live user=ids_admin password=ids_admin port=5432'"
      ]
     },
     "execution_count": 5,
     "metadata": {},
     "output_type": "execute_result"
    }
   ],
   "source": [
    "DSN"
   ]
  },
  {
   "cell_type": "code",
   "execution_count": 6,
   "metadata": {},
   "outputs": [],
   "source": [
    "conn = psycopg2.connect(DSN)"
   ]
  },
  {
   "cell_type": "code",
   "execution_count": 7,
   "metadata": {},
   "outputs": [
    {
     "data": {
      "text/plain": [
       "{'user': 'ids_admin',\n",
       " 'dbname': 'ids_live',\n",
       " 'host': '172.16.149.131',\n",
       " 'port': '5432',\n",
       " 'tty': '',\n",
       " 'options': '',\n",
       " 'sslmode': 'prefer',\n",
       " 'sslcompression': '0',\n",
       " 'krbsrvname': 'postgres',\n",
       " 'target_session_attrs': 'any'}"
      ]
     },
     "execution_count": 7,
     "metadata": {},
     "output_type": "execute_result"
    }
   ],
   "source": [
    "conn.get_dsn_parameters()"
   ]
  },
  {
   "cell_type": "code",
   "execution_count": 8,
   "metadata": {},
   "outputs": [
    {
     "name": "stdout",
     "output_type": "stream",
     "text": [
      "('PostgreSQL 9.6.10 on x86_64-pc-linux-gnu, compiled by gcc (GCC) 4.8.5 20150623 (Red Hat 4.8.5-28), 64-bit',)\n"
     ]
    }
   ],
   "source": [
    "cursor = conn.cursor()\n",
    "cursor.execute('SELECT version();')\n",
    "record = cursor.fetchone()\n",
    "print(record)"
   ]
  },
  {
   "cell_type": "code",
   "execution_count": 11,
   "metadata": {},
   "outputs": [
    {
     "name": "stdout",
     "output_type": "stream",
     "text": [
      "[(180265, 'HILARY', 'LYNNE', 'BLOOM', datetime.datetime(1950, 7, 28, 0, 0), '4446618571', '01000457', 'S', '1TRFR', datetime.datetime(2018, 12, 13, 0, 0), None, 'ADT^A04', 'ADTOUT', 'PLW21241146100304782', 'HL7', '2.2', datetime.datetime(2018, 12, 13, 11, 36), 'MSH|^~\\\\&|ADTOUT|PLW|||201812131136||ADT^A04|PLW21241146100304782|P|2.2|||AL|NE\\nEVN|A04|201812131136||RECEP|U519286^GREEN^DOSMA\\nPID||4446618571|01000457^^^MRENTR^MEDREC||BLOOM^HILARY^LYNNE^^MRS||195007280000|F||A|231 EDGWAREBURY LANE,^EDGWARE, MIDDX^^^HA8 8QJ||8958 2469~07740 425 727~HILARYBLOOM@HOTMAIL.COM|||M|9A|8402805\\nPD1|||U|412527^PINTO^ZA^^^DR^^^^^^^^G8807346~E830301^PENSHURST GARDENS SURGERY^39 PENSHURST GARDENS^EDGWARE^MIDDLESEX^^^HA8 9TN^^020 8958 3141^020 8905 4638^^^E83030&1||N||N\\nPV1||S|1TRFR||||H9999998^TECHNICIAN^RNTNE|412527^PINTO^ZA^^^DR~X9999998^SELF-REFERRAL^A||840EH|||||||R518465^1TRFR^THU WKA R1|X|16055260||||||||||||||||||||FM||2|||201812130000||||||38337093\\nPV2|||||||V|201812131000|201812131136||||5\\nOBX|1|ST|^^^ABC^ASSIGN BENEFITS^PLW-HL7||||||||N|||20181213\\nOBX|2|ST|^^^CLCGF^CLIENT CHANGEABLE FLAGS^PLW-HL7||~1||||||N\\nOBX|3|ST|^^^LRRF^REG REQUIRED FLAGS^PLW-HL7||~~~~11||||||N\\nZLW||||||||||||||||||||||P05080|RECEP|||||||||||||N||N\\nZUK|Q05|5A9|N|||||20181213|20181213|N20|P|||||||||||||||||E83030^2.16.840.1.113883.2.1.4.3|G8807346^2.16.840.1.113883.2.1.4.2|U519286^2.16.840.1.113883.2.1.3.2.4.11||8402805\\nZLC||F||1||11||||6||1TR||G8807346|M\\n', datetime.datetime(2018, 12, 13, 11, 40, 0, 670000)), (180266, 'LATISHA', 'JOYCE', 'HUNTE', datetime.datetime(1993, 2, 26, 0, 0), '4401671422', '40961894', 'S', 'DCL4A', datetime.datetime(2013, 11, 13, 0, 0), None, 'ADT^A04', 'ADTOUT', 'PLW21241146100397665', 'HL7', '2.2', datetime.datetime(2018, 12, 13, 11, 36), 'MSH|^~\\\\&|ADTOUT|PLW|||201812131136||ADT^A04|PLW21241146100397665|P|2.2|||AL|NE\\nEVN|A04|201812131136||RECEP|SS1192^PROVIDER^IDX\\nPID||4401671422|40961894^^^MRENTR^MEDREC||HUNTE^LATISHA^JOYCE^^MISS||199302260000|F||M|27 FERNCLIFF RD, LONDON^^^^E8 2HX||07889 686 579~07568 742 726|07737561658GMUM|||1F|4868257\\nPD1|||250|P522004^PATEL^N^^^DR^^^^^^^^G8539357~F840181^NIGHTINGALE PRACTICE^10 KENNINGHALL ROAD^CLAPTON^LONDON^^^E5  8BY^^020 89858388^0208-986-6004^^^F84018&1||N||N\\nNK1|1|.^JOYCE|G||07737 561 658||N\\nPV1||S|DCL4A||||C2257017^LINCH^D^C^^PROF|P522004^PATEL^N^^^DR~C6070762^MONTOTO ALMIRAL^SILVIA^^^DR||3031N|||||||R549064^DCL4A^THU WKA R2|X|16055261|||PLS-1|||||||||||||||||CC||2|||201311130000||||||41655705\\nPV2|||LYMPHOMA||||V|201812131100|201812131139||||4\\nOBX|1|ST|^^^ABC^ASSIGN BENEFITS^PLW-HL7||||||||N|||20131113\\nOBX|2|ST|^^^CASD^CURRENT ADDRESS SINCE DATE^PLW-HL7||20131128||||||N\\nOBX|3|ST|^^^CLCGF^CLIENT CHANGEABLE FLAGS^PLW-HL7||~1||||||N\\nOBX|4|ST|^^^LRRF^REG REQUIRED FLAGS^PLW-HL7||~~~~9~1||||||N\\nZLW|||||||||||||||||||||||RECEP\\nZUK|Q06|5C3|N|||||20131113|20131113|N30|T|||||||||||||||||F84018^2.16.840.1.113883.2.1.4.3|G8539357^2.16.840.1.113883.2.1.4.2|SS1192^2.16.840.1.113883.2.1.3.2.4.11||4868257||||||||||RRV03^5C400^000P10||||||||ASS: DB4X1 26/11F27/11YA\\nZLC||F||1||9||||5||DCL||G8539357\\n', datetime.datetime(2018, 12, 13, 11, 40, 1, 638000)), (180267, 'TANYA', None, 'ZIV', datetime.datetime(1983, 2, 25, 0, 0), '7076504383', '41614355', 'S', '1MWD1', datetime.datetime(2018, 6, 12, 0, 0), None, 'ADT^A04', 'ADTOUT', 'PLW21241146100526792', 'HL7', '2.2', datetime.datetime(2018, 12, 13, 11, 36), 'MSH|^~\\\\&|ADTOUT|PLW|||201812131136||ADT^A04|PLW21241146100526792|P|2.2|||AL|NE\\nEVN|A04|201812131136||REFADD|U538675^BEGUM^RAHIMA\\nPID||7076504383|41614355^^^MRENTR^MEDREC||ZIV^TANYA^^^MRS||198302250000|F||S|18D, BELSIZE PARK, LONDON^^^^NW3 4DU||~07447 574 455~TANYAZIV@GMAIL.COM|||U|9A|8036887\\nPD1|||250|386269^GRUN^LM^^^DR^^^^^^^^G9114584~F836231^THE KEATS GROUP PRACTICE^1B DOWNSHIRE HILL^HAMPSTEAD^LONDON^^^NW3 1NR^^0203 435 4672^0207 431 8501^^^F83623&1||N||N\\nPV1||S|1MWD1||||M9999998^MIDWIFE^APPOINTMENTS|386269^GRUN^LM^^^DR~G9114584^GRUN^LM^^^DR||50180|||||||R560122^1MWD1^TWTHF WKA R1|X|16046297|||PLS-1|||||||||||||||||NU||2|||201806120000\\nPV2|||||||||201812111641||||1\\nOBX|1|ST|^^^ABC^ASSIGN BENEFITS^PLW-HL7||||||||N|||20180612\\nOBX|2|ST|^^^CASD^CURRENT ADDRESS SINCE DATE^PLW-HL7||20180703||||||N\\nOBX|3|ST|^^^CLCGF^CLIENT CHANGEABLE FLAGS^PLW-HL7||~1||||||N\\nOBX|4|ST|^^^LRRF^REG REQUIRED FLAGS^PLW-HL7||~~~~11~1||||||N\\nZLW||||||||||||||||||||||P44191|REFADD\\nZUK|Q05|5K7|N||F83623|THE KEATS GROUP PRACTICE&1B DOWNSHIRE HILL^HAMPSTEAD&LONDON^^^NW3 1NR|0203 435 4672|20180612|20180612|N  N||||||||||||||||||F83623^2.16.840.1.113883.2.1.4.3|G9114584^2.16.840.1.113883.2.1.4.2|U538675^2.16.840.1.113883.2.1.3.2.4.11||8036887||||||||||RRV03^5K700^000P10||\\\\X00\\\\\\\\X00\\\\\\\\X00\\\\   \\\\X00\\\\\\\\X00\\\\\\nZLC||F||1||11||||3||1MW||G9114584|N\\n', datetime.datetime(2018, 12, 13, 11, 40, 2, 947000)), (180268, 'DORA', None, 'RUBINFELD', datetime.datetime(1938, 1, 7, 0, 0), '7049439339', '40740081', 'S', 'OA13D', datetime.datetime(2014, 1, 28, 0, 0), datetime.datetime(2014, 9, 5, 0, 0), 'ADT^A31', 'ADTOUT', 'PLW21241146100705315', 'HL7', '2.2', datetime.datetime(2018, 12, 13, 11, 36), 'MSH|^~\\\\&|ADTOUT|PLW|||201812131136||ADT^A31|PLW21241146100705315|P|2.2|||AL|NE\\nEVN|A31|201812131136||OADM|U568509^ALOM^MOHAMMOD\\nPID||7049439339|40740081^^^MRENTR^MEDREC||RUBINFELD^DORA^^^MRS||193801070000|F||S|14 BARRY AVENUE, LONDON^^^^N15 6AD||02088094427~07940 995 501~NONE|NONE||U|6A|4997539|20192740\\nPD1|||RN|414051^RACHMAN^SC^^^DR^^^^^^^^G8901408~F850711^FERNLEA SURGERY^114 HIGH ROAD^SOUTH TOTTENHAM^LONDON^^^N15 6JR^^020 88096445^^FERNLEA.ADMINTEAM@NHS.NET^^F85071&1||1||N\\nNK1|1|WEISS^PERLA|D||07553 605280||N\\nPV1||S|OA13D||||C4387161^AGU^O^^^MR|414051^RACHMAN^SC^^^DR~G8901408^RACHMAN^SC^^^DR||10712|||||||R530921^OA13D^THU WKF R1|X||||PLS-1|||||||||||||||||PP||2|||201401280000|201409050000\\nOBX|1|ST|^^^ABC^ASSIGN BENEFITS^PLW-HL7||||||||N|||20140128\\nOBX|2|ST|^^^CLCGF^CLIENT CHANGEABLE FLAGS^PLW-HL7||~1||||||N\\nOBX|3|ST|^^^LRRF^REG REQUIRED FLAGS^PLW-HL7||~~~~1~1||||||N\\nZLW||||||||||||||||||||||T30775|OADM\\nZUK|Q05|5C9|1|||||||N30|T|||||||||||||||||F85071^2.16.840.1.113883.2.1.4.3|G8901408^2.16.840.1.113883.2.1.4.2|U568509^2.16.840.1.113883.2.1.3.2.4.11||4997539||||||||||RRV20^5C900^000P10||\\\\X00\\\\\\\\X00\\\\\\\\X00\\\\\\\\X00\\\\\\\\X00\\\\\\\\X00\\\\\\\\X00\\\\\\\\X00\\\\\\nZLC||F||||||||||OA1||G8901408|N\\n', datetime.datetime(2018, 12, 13, 11, 40, 4, 777000)), (180269, 'CLARE', None, 'WARREN', datetime.datetime(1975, 9, 24, 0, 0), '4261481162', '95052374', 'S', 'GMB4A', datetime.datetime(2008, 11, 25, 0, 0), None, 'ADT^A04', 'ADTOUT', 'PLW21241146100809072', 'HL7', '2.2', datetime.datetime(2018, 12, 13, 11, 36), 'MSH|^~\\\\&|ADTOUT|PLW|||201812131136||ADT^A04|PLW21241146100809072|P|2.2|||AL|NE\\nEVN|A04|201812131136||RECEP|SS1192^PROVIDER^IDX\\nPID||4261481162|95052374^^^MRENTR^MEDREC||WARREN^CLARE^^^MRS||197509240000|F|~HOBBS^CLAIRE|A|20 VICARAGE ROAD, SILSOE,^BEDFORD^^^MK45 4EF||~07939148007|||M|1A|2272079\\nPD1|||U|399068^LING^HL^^^DR^^^^^^^^G3385175~E810151^FLITWICK SURGERY^HIGHLANDS^FLITWICK^BEDFORD^^^MK451DZ^^01525 715 300^01525 718 756^^^E81015&1||N||N\\nNK1|1|HOBBS^LYNNE|M|20 GOODWOOD CLOSE,|01525 860847|01582 506 128|N\\nPV1||S|GMB4A||||C2443720^BLACKMAN^G^M^^DR|399068^LING^HL^^^DR~C2443720^BLACKMAN^G^M^^DR||80018|||||||R561104^GMB4A^THU WKA R5|X|16055262||||||||||||||||||||PP||2|||200811250000||||||36881221\\nPV2|||||||V|201812131145|201812131139||||23\\nOBX|1|ST|^^^ABC^ASSIGN BENEFITS^PLW-HL7||||||||N|||20081125\\nOBX|2|ST|^^^CASD^CURRENT ADDRESS SINCE DATE^PLW-HL7||20020621||||||N\\nOBX|3|ST|^^^CLCGF^CLIENT CHANGEABLE FLAGS^PLW-HL7||~1||||||N\\nOBX|4|ST|^^^LRRF^REG REQUIRED FLAGS^PLW-HL7||~~~~9||||||N\\nZLW|||||||||||||||||||||||RECEP|||||||||||||N||N\\nZUK|Q02|5GE|N|||||20081125|20081125|N20|P|||||||||||||||||E81015^2.16.840.1.113883.2.1.4.3|G3385175^2.16.840.1.113883.2.1.4.2|SS1192^2.16.840.1.113883.2.1.3.2.4.11||2272079||||||||||||||||||ALLERGY : BLOOD PRODS SEPTRIM\\nZLC||F||1||9||||B||GMB||G3385175|M\\n', datetime.datetime(2018, 12, 13, 11, 40, 5, 810000))]\n"
     ]
    }
   ],
   "source": [
    "cursor = conn.cursor()\n",
    "cursor.execute('SELECT * from tbl_ids_master LIMIT 5;')\n",
    "record = cursor.fetchall()\n",
    "print(record)"
   ]
  },
  {
   "cell_type": "code",
   "execution_count": 13,
   "metadata": {},
   "outputs": [],
   "source": [
    "import pandas as pd\n",
    "SQL = 'SELECT * from tbl_ids_master LIMIT 5;'\n",
    "df = pd.read_sql(SQL, conn)\n"
   ]
  },
  {
   "cell_type": "code",
   "execution_count": 14,
   "metadata": {},
   "outputs": [
    {
     "data": {
      "text/html": [
       "<div>\n",
       "<style scoped>\n",
       "    .dataframe tbody tr th:only-of-type {\n",
       "        vertical-align: middle;\n",
       "    }\n",
       "\n",
       "    .dataframe tbody tr th {\n",
       "        vertical-align: top;\n",
       "    }\n",
       "\n",
       "    .dataframe thead th {\n",
       "        text-align: right;\n",
       "    }\n",
       "</style>\n",
       "<table border=\"1\" class=\"dataframe\">\n",
       "  <thead>\n",
       "    <tr style=\"text-align: right;\">\n",
       "      <th></th>\n",
       "      <th>unid</th>\n",
       "      <th>patientname</th>\n",
       "      <th>patientmiddlename</th>\n",
       "      <th>patientsurname</th>\n",
       "      <th>dateofbirth</th>\n",
       "      <th>nhsnumber</th>\n",
       "      <th>hospitalnumber</th>\n",
       "      <th>patientclass</th>\n",
       "      <th>patientlocation</th>\n",
       "      <th>admissiondate</th>\n",
       "      <th>dischargedate</th>\n",
       "      <th>messagetype</th>\n",
       "      <th>senderapplication</th>\n",
       "      <th>messageidentifier</th>\n",
       "      <th>messageformat</th>\n",
       "      <th>messageversion</th>\n",
       "      <th>messagedatetime</th>\n",
       "      <th>hl7message</th>\n",
       "      <th>persistdatetime</th>\n",
       "    </tr>\n",
       "  </thead>\n",
       "  <tbody>\n",
       "    <tr>\n",
       "      <th>0</th>\n",
       "      <td>180265</td>\n",
       "      <td>HILARY</td>\n",
       "      <td>LYNNE</td>\n",
       "      <td>BLOOM</td>\n",
       "      <td>1950-07-28</td>\n",
       "      <td>4446618571</td>\n",
       "      <td>01000457</td>\n",
       "      <td>S</td>\n",
       "      <td>1TRFR</td>\n",
       "      <td>2018-12-13</td>\n",
       "      <td>NaT</td>\n",
       "      <td>ADT^A04</td>\n",
       "      <td>ADTOUT</td>\n",
       "      <td>PLW21241146100304782</td>\n",
       "      <td>HL7</td>\n",
       "      <td>2.2</td>\n",
       "      <td>2018-12-13 11:36:00</td>\n",
       "      <td>MSH|^~\\&amp;|ADTOUT|PLW|||201812131136||ADT^A04|PL...</td>\n",
       "      <td>2018-12-13 11:40:00.670</td>\n",
       "    </tr>\n",
       "    <tr>\n",
       "      <th>1</th>\n",
       "      <td>180266</td>\n",
       "      <td>LATISHA</td>\n",
       "      <td>JOYCE</td>\n",
       "      <td>HUNTE</td>\n",
       "      <td>1993-02-26</td>\n",
       "      <td>4401671422</td>\n",
       "      <td>40961894</td>\n",
       "      <td>S</td>\n",
       "      <td>DCL4A</td>\n",
       "      <td>2013-11-13</td>\n",
       "      <td>NaT</td>\n",
       "      <td>ADT^A04</td>\n",
       "      <td>ADTOUT</td>\n",
       "      <td>PLW21241146100397665</td>\n",
       "      <td>HL7</td>\n",
       "      <td>2.2</td>\n",
       "      <td>2018-12-13 11:36:00</td>\n",
       "      <td>MSH|^~\\&amp;|ADTOUT|PLW|||201812131136||ADT^A04|PL...</td>\n",
       "      <td>2018-12-13 11:40:01.638</td>\n",
       "    </tr>\n",
       "    <tr>\n",
       "      <th>2</th>\n",
       "      <td>180267</td>\n",
       "      <td>TANYA</td>\n",
       "      <td>None</td>\n",
       "      <td>ZIV</td>\n",
       "      <td>1983-02-25</td>\n",
       "      <td>7076504383</td>\n",
       "      <td>41614355</td>\n",
       "      <td>S</td>\n",
       "      <td>1MWD1</td>\n",
       "      <td>2018-06-12</td>\n",
       "      <td>NaT</td>\n",
       "      <td>ADT^A04</td>\n",
       "      <td>ADTOUT</td>\n",
       "      <td>PLW21241146100526792</td>\n",
       "      <td>HL7</td>\n",
       "      <td>2.2</td>\n",
       "      <td>2018-12-13 11:36:00</td>\n",
       "      <td>MSH|^~\\&amp;|ADTOUT|PLW|||201812131136||ADT^A04|PL...</td>\n",
       "      <td>2018-12-13 11:40:02.947</td>\n",
       "    </tr>\n",
       "    <tr>\n",
       "      <th>3</th>\n",
       "      <td>180268</td>\n",
       "      <td>DORA</td>\n",
       "      <td>None</td>\n",
       "      <td>RUBINFELD</td>\n",
       "      <td>1938-01-07</td>\n",
       "      <td>7049439339</td>\n",
       "      <td>40740081</td>\n",
       "      <td>S</td>\n",
       "      <td>OA13D</td>\n",
       "      <td>2014-01-28</td>\n",
       "      <td>2014-09-05</td>\n",
       "      <td>ADT^A31</td>\n",
       "      <td>ADTOUT</td>\n",
       "      <td>PLW21241146100705315</td>\n",
       "      <td>HL7</td>\n",
       "      <td>2.2</td>\n",
       "      <td>2018-12-13 11:36:00</td>\n",
       "      <td>MSH|^~\\&amp;|ADTOUT|PLW|||201812131136||ADT^A31|PL...</td>\n",
       "      <td>2018-12-13 11:40:04.777</td>\n",
       "    </tr>\n",
       "    <tr>\n",
       "      <th>4</th>\n",
       "      <td>180269</td>\n",
       "      <td>CLARE</td>\n",
       "      <td>None</td>\n",
       "      <td>WARREN</td>\n",
       "      <td>1975-09-24</td>\n",
       "      <td>4261481162</td>\n",
       "      <td>95052374</td>\n",
       "      <td>S</td>\n",
       "      <td>GMB4A</td>\n",
       "      <td>2008-11-25</td>\n",
       "      <td>NaT</td>\n",
       "      <td>ADT^A04</td>\n",
       "      <td>ADTOUT</td>\n",
       "      <td>PLW21241146100809072</td>\n",
       "      <td>HL7</td>\n",
       "      <td>2.2</td>\n",
       "      <td>2018-12-13 11:36:00</td>\n",
       "      <td>MSH|^~\\&amp;|ADTOUT|PLW|||201812131136||ADT^A04|PL...</td>\n",
       "      <td>2018-12-13 11:40:05.810</td>\n",
       "    </tr>\n",
       "  </tbody>\n",
       "</table>\n",
       "</div>"
      ],
      "text/plain": [
       "     unid patientname patientmiddlename patientsurname dateofbirth  \\\n",
       "0  180265      HILARY             LYNNE          BLOOM  1950-07-28   \n",
       "1  180266     LATISHA             JOYCE          HUNTE  1993-02-26   \n",
       "2  180267       TANYA              None            ZIV  1983-02-25   \n",
       "3  180268        DORA              None      RUBINFELD  1938-01-07   \n",
       "4  180269       CLARE              None         WARREN  1975-09-24   \n",
       "\n",
       "    nhsnumber hospitalnumber patientclass patientlocation admissiondate  \\\n",
       "0  4446618571       01000457            S           1TRFR    2018-12-13   \n",
       "1  4401671422       40961894            S           DCL4A    2013-11-13   \n",
       "2  7076504383       41614355            S           1MWD1    2018-06-12   \n",
       "3  7049439339       40740081            S           OA13D    2014-01-28   \n",
       "4  4261481162       95052374            S           GMB4A    2008-11-25   \n",
       "\n",
       "  dischargedate messagetype senderapplication     messageidentifier  \\\n",
       "0           NaT     ADT^A04            ADTOUT  PLW21241146100304782   \n",
       "1           NaT     ADT^A04            ADTOUT  PLW21241146100397665   \n",
       "2           NaT     ADT^A04            ADTOUT  PLW21241146100526792   \n",
       "3    2014-09-05     ADT^A31            ADTOUT  PLW21241146100705315   \n",
       "4           NaT     ADT^A04            ADTOUT  PLW21241146100809072   \n",
       "\n",
       "  messageformat messageversion     messagedatetime  \\\n",
       "0           HL7            2.2 2018-12-13 11:36:00   \n",
       "1           HL7            2.2 2018-12-13 11:36:00   \n",
       "2           HL7            2.2 2018-12-13 11:36:00   \n",
       "3           HL7            2.2 2018-12-13 11:36:00   \n",
       "4           HL7            2.2 2018-12-13 11:36:00   \n",
       "\n",
       "                                          hl7message         persistdatetime  \n",
       "0  MSH|^~\\&|ADTOUT|PLW|||201812131136||ADT^A04|PL... 2018-12-13 11:40:00.670  \n",
       "1  MSH|^~\\&|ADTOUT|PLW|||201812131136||ADT^A04|PL... 2018-12-13 11:40:01.638  \n",
       "2  MSH|^~\\&|ADTOUT|PLW|||201812131136||ADT^A04|PL... 2018-12-13 11:40:02.947  \n",
       "3  MSH|^~\\&|ADTOUT|PLW|||201812131136||ADT^A31|PL... 2018-12-13 11:40:04.777  \n",
       "4  MSH|^~\\&|ADTOUT|PLW|||201812131136||ADT^A04|PL... 2018-12-13 11:40:05.810  "
      ]
     },
     "execution_count": 14,
     "metadata": {},
     "output_type": "execute_result"
    }
   ],
   "source": [
    "df"
   ]
  },
  {
   "cell_type": "code",
   "execution_count": 43,
   "metadata": {},
   "outputs": [],
   "source": [
    "import pandas as pd\n",
    "import numpy as np\n",
    "import altair as alt"
   ]
  },
  {
   "cell_type": "code",
   "execution_count": 48,
   "metadata": {},
   "outputs": [
    {
     "name": "stdout",
     "output_type": "stream",
     "text": [
      "  messagetype senderapplication     messagedatetime         persistdatetime  \\\n",
      "0     ADT^A04            ADTOUT 2018-12-19 11:17:00 2018-12-19 11:20:38.461   \n",
      "1     ADT^A04            ADTOUT 2018-12-19 11:17:00 2018-12-19 11:20:39.764   \n",
      "2     ADT^A31            ADTOUT 2018-12-19 11:17:00 2018-12-19 11:20:41.395   \n",
      "3     ADT^A31            ADTOUT 2018-12-19 11:17:00 2018-12-19 11:20:42.048   \n",
      "4     ADT^A04            ADTOUT 2018-12-19 11:17:00 2018-12-19 11:20:42.441   \n",
      "\n",
      "   msg_delay  \n",
      "0    218.461  \n",
      "1    219.764  \n",
      "2    221.395  \n",
      "3    222.048  \n",
      "4    222.441  \n"
     ]
    }
   ],
   "source": [
    "SQL = 'SELECT messagetype, senderapplication, messagedatetime, persistdatetime from tbl_ids_master LIMIT 100000;'\n",
    "df = pd.read_sql(SQL, conn)\n",
    "df['msg_delay'] = (df['persistdatetime'] - df['messagedatetime']) / np.timedelta64(1, 's')\n",
    "print(df.head())"
   ]
  },
  {
   "cell_type": "code",
   "execution_count": 51,
   "metadata": {},
   "outputs": [],
   "source": [
    "alt.data_transformers.enable('json')\n",
    "chart = alt.Chart(df)"
   ]
  },
  {
   "cell_type": "code",
   "execution_count": null,
   "metadata": {},
   "outputs": [],
   "source": [
    "chart.mark_bar().encode(\n",
    "    x='messagedatetime',\n",
    "    y='msg_delay')"
   ]
  },
  {
   "cell_type": "code",
   "execution_count": 58,
   "metadata": {},
   "outputs": [
    {
     "data": {
      "application/vnd.vegalite.v2+json": {
       "$schema": "https://vega.github.io/schema/vega-lite/v2.6.0.json",
       "config": {
        "view": {
         "height": 300,
         "width": 400
        }
       },
       "data": {
        "format": {
         "type": "json"
        },
        "url": "altair-data-9d4fc5791b379e13283e3dac54555d34.json"
       },
       "encoding": {
        "x": {
         "bin": {
          "maxbins": 100
         },
         "field": "msg_delay",
         "scale": {
          "domain": [
           0,
           300
          ]
         },
         "type": "quantitative"
        },
        "y": {
         "aggregate": "count",
         "type": "quantitative"
        }
       },
       "mark": {
        "opacity": 0.5,
        "type": "bar"
       }
      },
      "image/png": "[encoded data removed]",
      "text/plain": [
       "<VegaLite 2 object>\n",
       "\n",
       "If you see this message, it means the renderer has not been properly enabled\n",
       "for the frontend that you are using. For more information, see\n",
       "https://altair-viz.github.io/user_guide/troubleshooting.html\n"
      ]
     },
     "execution_count": 58,
     "metadata": {},
     "output_type": "execute_result"
    }
   ],
   "source": [
    "chart.mark_bar(\n",
    "    opacity=0.5\n",
    ").encode(\n",
    "    alt.X(\n",
    "        'msg_delay:Q', \n",
    "        bin=alt.Bin(maxbins=100),\n",
    "        scale=alt.Scale(domain=[0, 300])\n",
    "         ),\n",
    "    y='count()',\n",
    ")"
   ]
  },
  {
   "cell_type": "code",
   "execution_count": 69,
   "metadata": {},
   "outputs": [],
   "source": [
    "SQL = \"SELECT messagetype, senderapplication, messagedatetime from tbl_ids_master WHERE messagetype = 'ADT^A01';\"\n",
    "df = pd.read_sql(SQL, conn)"
   ]
  },
  {
   "cell_type": "code",
   "execution_count": 70,
   "metadata": {},
   "outputs": [
    {
     "data": {
      "text/plain": [
       "29991"
      ]
     },
     "execution_count": 70,
     "metadata": {},
     "output_type": "execute_result"
    }
   ],
   "source": [
    "len(df)"
   ]
  },
  {
   "cell_type": "code",
   "execution_count": 73,
   "metadata": {},
   "outputs": [
    {
     "data": {
      "text/html": [
       "<div>\n",
       "<style scoped>\n",
       "    .dataframe tbody tr th:only-of-type {\n",
       "        vertical-align: middle;\n",
       "    }\n",
       "\n",
       "    .dataframe tbody tr th {\n",
       "        vertical-align: top;\n",
       "    }\n",
       "\n",
       "    .dataframe thead th {\n",
       "        text-align: right;\n",
       "    }\n",
       "</style>\n",
       "<table border=\"1\" class=\"dataframe\">\n",
       "  <thead>\n",
       "    <tr style=\"text-align: right;\">\n",
       "      <th></th>\n",
       "      <th>messagetype</th>\n",
       "      <th>senderapplication</th>\n",
       "      <th>messagedatetime</th>\n",
       "      <th>time_of_day</th>\n",
       "    </tr>\n",
       "  </thead>\n",
       "  <tbody>\n",
       "    <tr>\n",
       "      <th>0</th>\n",
       "      <td>ADT^A01</td>\n",
       "      <td>ADTOUT</td>\n",
       "      <td>2018-12-27 12:47:00</td>\n",
       "      <td>12:47:00</td>\n",
       "    </tr>\n",
       "    <tr>\n",
       "      <th>1</th>\n",
       "      <td>ADT^A01</td>\n",
       "      <td>ADTOUT</td>\n",
       "      <td>2018-12-27 12:47:00</td>\n",
       "      <td>12:47:00</td>\n",
       "    </tr>\n",
       "    <tr>\n",
       "      <th>2</th>\n",
       "      <td>ADT^A01</td>\n",
       "      <td>ADTOUT</td>\n",
       "      <td>2018-12-27 12:48:00</td>\n",
       "      <td>12:48:00</td>\n",
       "    </tr>\n",
       "    <tr>\n",
       "      <th>3</th>\n",
       "      <td>ADT^A01</td>\n",
       "      <td>ADTOUT</td>\n",
       "      <td>2018-12-27 12:50:00</td>\n",
       "      <td>12:50:00</td>\n",
       "    </tr>\n",
       "    <tr>\n",
       "      <th>4</th>\n",
       "      <td>ADT^A01</td>\n",
       "      <td>ADTOUT</td>\n",
       "      <td>2018-12-27 12:51:00</td>\n",
       "      <td>12:51:00</td>\n",
       "    </tr>\n",
       "  </tbody>\n",
       "</table>\n",
       "</div>"
      ],
      "text/plain": [
       "  messagetype senderapplication     messagedatetime time_of_day\n",
       "0     ADT^A01            ADTOUT 2018-12-27 12:47:00    12:47:00\n",
       "1     ADT^A01            ADTOUT 2018-12-27 12:47:00    12:47:00\n",
       "2     ADT^A01            ADTOUT 2018-12-27 12:48:00    12:48:00\n",
       "3     ADT^A01            ADTOUT 2018-12-27 12:50:00    12:50:00\n",
       "4     ADT^A01            ADTOUT 2018-12-27 12:51:00    12:51:00"
      ]
     },
     "execution_count": 73,
     "metadata": {},
     "output_type": "execute_result"
    }
   ],
   "source": [
    "df['time_of_day'] = df['messagedatetime'].dt.time\n",
    "df.head()"
   ]
  },
  {
   "cell_type": "code",
   "execution_count": 91,
   "metadata": {},
   "outputs": [
    {
     "data": {
      "text/plain": [
       "305"
      ]
     },
     "execution_count": 91,
     "metadata": {},
     "output_type": "execute_result"
    }
   ],
   "source": [
    "df['hour'] = df['messagedatetime'].dt.hour\n",
    "sum(df['hour'] == 0)"
   ]
  },
  {
   "cell_type": "code",
   "execution_count": 94,
   "metadata": {},
   "outputs": [],
   "source": [
    "dfg = df.groupby(['hour']).size().reset_index(name='counts')"
   ]
  },
  {
   "cell_type": "code",
   "execution_count": 95,
   "metadata": {},
   "outputs": [
    {
     "name": "stderr",
     "output_type": "stream",
     "text": [
      "/usr/local/lib/python3.7/site-packages/altair/utils/core.py:294: FutureWarning: A future version of pandas will default to `skipna=True`. To silence this warning, pass `skipna=True|False` explicitly.\n",
      "  attrs['type'] = infer_vegalite_type(data[attrs['field']])\n"
     ]
    },
    {
     "data": {
      "application/vnd.vegalite.v2+json": {
       "$schema": "https://vega.github.io/schema/vega-lite/v2.6.0.json",
       "config": {
        "view": {
         "height": 300,
         "width": 400
        }
       },
       "data": {
        "format": {
         "type": "json"
        },
        "url": "altair-data-1e7584e46274f1f67556d9e238390cfc.json"
       },
       "encoding": {
        "x": {
         "field": "hour",
         "type": "quantitative"
        },
        "y": {
         "field": "counts",
         "type": "quantitative"
        }
       },
       "mark": "bar"
      },
      "image/png": "[encoded data removed]",
      "text/plain": [
       "<VegaLite 2 object>\n",
       "\n",
       "If you see this message, it means the renderer has not been properly enabled\n",
       "for the frontend that you are using. For more information, see\n",
       "https://altair-viz.github.io/user_guide/troubleshooting.html\n"
      ]
     },
     "execution_count": 95,
     "metadata": {},
     "output_type": "execute_result"
    }
   ],
   "source": [
    "chart = alt.Chart(dfg)\n",
    "chart.mark_bar().encode(\n",
    "    x='hour',\n",
    "    y='counts')"
   ]
  },
  {
   "cell_type": "code",
   "execution_count": null,
   "metadata": {},
   "outputs": [],
   "source": []
  }
 ],
 "metadata": {
  "kernelspec": {
   "display_name": "Python 3",
   "language": "python",
   "name": "python3"
  },
  "language_info": {
   "codemirror_mode": {
    "name": "ipython",
    "version": 3
   },
   "file_extension": ".py",
   "mimetype": "text/x-python",
   "name": "python",
   "nbconvert_exporter": "python",
   "pygments_lexer": "ipython3",
   "version": "3.7.0"
  }
 },
 "nbformat": 4,
 "nbformat_minor": 2
}
