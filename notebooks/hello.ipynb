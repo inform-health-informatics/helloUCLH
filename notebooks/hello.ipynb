{
 "cells": [
  {
   "cell_type": "code",
   "execution_count": 2,
   "metadata": {},
   "outputs": [
    {
     "name": "stdout",
     "output_type": "stream",
     "text": [
      "\n",
      "Hello Niall\n",
      "\n"
     ]
    },
    {
     "name": "stdin",
     "output_type": "stream",
     "text": [
      "Shall I continue?  yes\n"
     ]
    },
    {
     "name": "stdout",
     "output_type": "stream",
     "text": [
      "\n",
      "\n",
      "EMAP has been built\n",
      "\n",
      "    ... here at UCLH\n",
      "\n",
      "    ... for the NHS\n",
      "\n",
      "according to the following principles ...\n",
      "\n",
      "\n",
      "1. Protection of operational systems\n",
      "2. Protection of patient privacy:\n",
      "   A 'code to data' rather than 'data to code' paradigm\n",
      "3. Near real-time over retrospective batch loads\n",
      "4. Interoperability for semantic collaboration\n",
      "5. Scalable through open source\n",
      "\n",
      "Thank you and goodbye\n",
      "\n"
     ]
    }
   ],
   "source": [
    "%run ../code/helloUCLH.py"
   ]
  },
  {
   "cell_type": "code",
   "execution_count": 4,
   "metadata": {},
   "outputs": [
    {
     "name": "stderr",
     "output_type": "stream",
     "text": [
      "/usr/local/lib/python3.7/site-packages/psycopg2/__init__.py:144: UserWarning: The psycopg2 wheel package will be renamed from release 2.8; in order to keep installing from binary please use \"pip install psycopg2-binary\" instead. For details see: <http://initd.org/psycopg/docs/install.html#binary-install-from-pypi>.\n",
      "  \"\"\")\n"
     ]
    }
   ],
   "source": [
    "%run ../code/ids_demo.py"
   ]
  },
  {
   "cell_type": "code",
   "execution_count": 5,
   "metadata": {},
   "outputs": [
    {
     "data": {
      "text/plain": [
       "'host=212.71.245.199 dbname=omopuclh user=uclh password=uclh port=55432'"
      ]
     },
     "execution_count": 5,
     "metadata": {},
     "output_type": "execute_result"
    }
   ],
   "source": [
    "DSN"
   ]
  },
  {
   "cell_type": "code",
   "execution_count": 6,
   "metadata": {},
   "outputs": [],
   "source": [
    "conn = psycopg2.connect(DSN)"
   ]
  },
  {
   "cell_type": "code",
   "execution_count": 7,
   "metadata": {},
   "outputs": [
    {
     "data": {
      "text/plain": [
       "{'user': 'uclh',\n",
       " 'dbname': 'omopuclh',\n",
       " 'host': '212.71.245.199',\n",
       " 'port': '55432',\n",
       " 'tty': '',\n",
       " 'options': '',\n",
       " 'sslmode': 'prefer',\n",
       " 'sslcompression': '0',\n",
       " 'krbsrvname': 'postgres',\n",
       " 'target_session_attrs': 'any'}"
      ]
     },
     "execution_count": 7,
     "metadata": {},
     "output_type": "execute_result"
    }
   ],
   "source": [
    "conn.get_dsn_parameters()"
   ]
  },
  {
   "cell_type": "code",
   "execution_count": 8,
   "metadata": {},
   "outputs": [
    {
     "name": "stdout",
     "output_type": "stream",
     "text": [
      "('PostgreSQL 10.5 on x86_64-pc-linux-musl, compiled by gcc (Alpine 6.4.0) 6.4.0, 64-bit',)\n"
     ]
    }
   ],
   "source": [
    "cursor = conn.cursor()\n",
    "cursor.execute('SELECT version();')\n",
    "record = cursor.fetchone()\n",
    "print(record)"
   ]
  },
  {
   "cell_type": "code",
   "execution_count": 9,
   "metadata": {},
   "outputs": [
    {
     "name": "stdout",
     "output_type": "stream",
     "text": [
      "[(datetime.date(2018, 6, 11),), (datetime.date(2018, 10, 26),), (datetime.date(2018, 2, 8),), (datetime.date(2018, 11, 6),), (datetime.date(2018, 5, 24),)]\n"
     ]
    }
   ],
   "source": [
    "cursor = conn.cursor()\n",
    "cursor.execute('SELECT visit_start_date FROM public.visit_occurrence;')\n",
    "records = cursor.fetchall()\n",
    "print([r for r in records])"
   ]
  },
  {
   "cell_type": "code",
   "execution_count": 83,
   "metadata": {},
   "outputs": [],
   "source": [
    "import pandas as pd\n",
    "SQL = 'SELECT * FROM measurement;'\n",
    "df = pd.read_sql(SQL, conn)"
   ]
  },
  {
   "cell_type": "code",
   "execution_count": 85,
   "metadata": {},
   "outputs": [
    {
     "data": {
      "text/plain": [
       "45.55085508127479"
      ]
     },
     "execution_count": 85,
     "metadata": {},
     "output_type": "execute_result"
    }
   ],
   "source": [
    "df['value_as_number'].mean()"
   ]
  },
  {
   "cell_type": "code",
   "execution_count": 91,
   "metadata": {},
   "outputs": [],
   "source": [
    "df =df[['measurement_datetime', 'value_as_number']]"
   ]
  },
  {
   "cell_type": "code",
   "execution_count": 92,
   "metadata": {},
   "outputs": [],
   "source": [
    "import altair as alt\n",
    "chart = alt.Chart(df)"
   ]
  },
  {
   "cell_type": "code",
   "execution_count": 94,
   "metadata": {},
   "outputs": [
    {
     "data": {
      "application/vnd.vegalite.v2+json": {
       "$schema": "https://vega.github.io/schema/vega-lite/v2.6.0.json",
       "config": {
        "view": {
         "height": 300,
         "width": 400
        }
       },
       "data": {
        "name": "data-72972f12cb3c307de6773dca60cab207"
       },
       "datasets": {
        "data-72972f12cb3c307de6773dca60cab207": [
         {
          "measurement_datetime": "2018-05-24T18:21:16.796274",
          "value_as_number": 3.6828077503676853
         },
         {
          "measurement_datetime": "2018-05-25T00:21:16.796274",
          "value_as_number": 1.669150815295223
         },
         {
          "measurement_datetime": "2018-05-25T06:21:16.796274",
          "value_as_number": 0.40225394939406184
         },
         {
          "measurement_datetime": "2018-05-25T12:21:16.796274",
          "value_as_number": 2.1618514899351684
         },
         {
          "measurement_datetime": "2018-05-25T18:21:16.796274",
          "value_as_number": 0.75898537702446
         },
         {
          "measurement_datetime": "2018-05-26T00:21:16.796274",
          "value_as_number": 0.4626427621118754
         },
         {
          "measurement_datetime": "2018-05-26T06:21:16.796274",
          "value_as_number": 1.8819747535947304
         },
         {
          "measurement_datetime": "2018-05-26T12:21:16.796274",
          "value_as_number": 0.3527910082873761
         },
         {
          "measurement_datetime": "2018-05-26T18:21:16.796274",
          "value_as_number": 1.0402573063930762
         },
         {
          "measurement_datetime": "2018-05-27T00:21:16.796274",
          "value_as_number": 0.9185228582833237
         },
         {
          "measurement_datetime": "2018-05-27T06:21:16.796274",
          "value_as_number": 1.152806668204342
         },
         {
          "measurement_datetime": "2018-05-27T12:21:16.796274",
          "value_as_number": 3.306952136785797
         },
         {
          "measurement_datetime": "2018-05-27T18:21:16.796274",
          "value_as_number": 1.4588738437829518
         },
         {
          "measurement_datetime": "2018-05-28T00:21:16.796274",
          "value_as_number": 1.434320482861703
         },
         {
          "measurement_datetime": "2018-05-28T06:21:16.796274",
          "value_as_number": 3.7184604941235353
         },
         {
          "measurement_datetime": "2018-05-28T12:21:16.796274",
          "value_as_number": 1.568863444349247
         },
         {
          "measurement_datetime": "2018-05-28T18:21:16.796274",
          "value_as_number": 0.5540262374805222
         },
         {
          "measurement_datetime": "2018-05-29T00:21:16.796274",
          "value_as_number": 0.6085855270540396
         },
         {
          "measurement_datetime": "2018-05-29T06:21:16.796274",
          "value_as_number": 0.27535513464903066
         },
         {
          "measurement_datetime": "2018-05-29T12:21:16.796274",
          "value_as_number": 0.5676910861455038
         },
         {
          "measurement_datetime": "2018-05-29T18:21:16.796274",
          "value_as_number": 0.3218094278957671
         },
         {
          "measurement_datetime": "2018-05-30T00:21:16.796274",
          "value_as_number": 1.5766358306848463
         },
         {
          "measurement_datetime": "2018-05-30T06:21:16.796274",
          "value_as_number": 0.31907951599795675
         },
         {
          "measurement_datetime": "2018-05-30T12:21:16.796274",
          "value_as_number": 3.789604760164201
         },
         {
          "measurement_datetime": "2018-05-30T18:21:16.796274",
          "value_as_number": 1.3942463917823948
         },
         {
          "measurement_datetime": "2018-05-31T00:21:16.796274",
          "value_as_number": 4.56627582436968
         },
         {
          "measurement_datetime": "2018-05-31T06:21:16.796274",
          "value_as_number": 0.14966868937888383
         },
         {
          "measurement_datetime": "2018-05-31T12:21:16.796274",
          "value_as_number": 0.9651469401307868
         },
         {
          "measurement_datetime": "2018-05-24T18:21:16.796274",
          "value_as_number": 95.05538860158951
         },
         {
          "measurement_datetime": "2018-05-25T00:21:16.796274",
          "value_as_number": 95.00304585978775
         },
         {
          "measurement_datetime": "2018-05-25T06:21:16.796274",
          "value_as_number": 104.04633565713823
         },
         {
          "measurement_datetime": "2018-05-25T12:21:16.796274",
          "value_as_number": 82.1476588618095
         },
         {
          "measurement_datetime": "2018-05-25T18:21:16.796274",
          "value_as_number": 106.91164254677471
         },
         {
          "measurement_datetime": "2018-05-26T00:21:16.796274",
          "value_as_number": 76.31795135892207
         },
         {
          "measurement_datetime": "2018-05-26T06:21:16.796274",
          "value_as_number": 79.94310011449282
         },
         {
          "measurement_datetime": "2018-05-26T12:21:16.796274",
          "value_as_number": 92.72226540943
         },
         {
          "measurement_datetime": "2018-05-26T18:21:16.796274",
          "value_as_number": 82.48334360797023
         },
         {
          "measurement_datetime": "2018-05-27T00:21:16.796274",
          "value_as_number": 104.23278554256885
         },
         {
          "measurement_datetime": "2018-05-27T06:21:16.796274",
          "value_as_number": 91.68441371475815
         },
         {
          "measurement_datetime": "2018-05-27T12:21:16.796274",
          "value_as_number": 98.45935411185867
         },
         {
          "measurement_datetime": "2018-05-27T18:21:16.796274",
          "value_as_number": 108.77940616369848
         },
         {
          "measurement_datetime": "2018-05-28T00:21:16.796274",
          "value_as_number": 38.57374534748624
         },
         {
          "measurement_datetime": "2018-05-28T06:21:16.796274",
          "value_as_number": 66.53720608473884
         },
         {
          "measurement_datetime": "2018-05-28T12:21:16.796274",
          "value_as_number": 102.93045657604799
         },
         {
          "measurement_datetime": "2018-05-28T18:21:16.796274",
          "value_as_number": 96.7787552201131
         },
         {
          "measurement_datetime": "2018-05-29T00:21:16.796274",
          "value_as_number": 102.30271826563902
         },
         {
          "measurement_datetime": "2018-05-29T06:21:16.796274",
          "value_as_number": 118.31560578294267
         },
         {
          "measurement_datetime": "2018-05-29T12:21:16.796274",
          "value_as_number": 67.97990260914956
         },
         {
          "measurement_datetime": "2018-05-29T18:21:16.796274",
          "value_as_number": 100.7057284128213
         },
         {
          "measurement_datetime": "2018-05-30T00:21:16.796274",
          "value_as_number": 85.76715037371268
         },
         {
          "measurement_datetime": "2018-05-30T06:21:16.796274",
          "value_as_number": 65.88150861250324
         },
         {
          "measurement_datetime": "2018-05-30T12:21:16.796274",
          "value_as_number": 79.6359516259455
         },
         {
          "measurement_datetime": "2018-05-30T18:21:16.796274",
          "value_as_number": 89.57712048743294
         },
         {
          "measurement_datetime": "2018-05-31T00:21:16.796274",
          "value_as_number": 88.09664068726697
         },
         {
          "measurement_datetime": "2018-05-31T06:21:16.796274",
          "value_as_number": 93.82964873594167
         },
         {
          "measurement_datetime": "2018-05-31T12:21:16.796274",
          "value_as_number": 95.08941367231918
         }
        ]
       },
       "encoding": {
        "x": {
         "field": "measurement_datetime",
         "type": "temporal"
        },
        "y": {
         "field": "value_as_number",
         "type": "quantitative"
        }
       },
       "mark": "point"
      },
      "image/png": "[encoded data removed]",
      "text/plain": [
       "<VegaLite 2 object>\n",
       "\n",
       "If you see this message, it means the renderer has not been properly enabled\n",
       "for the frontend that you are using. For more information, see\n",
       "https://altair-viz.github.io/user_guide/troubleshooting.html\n"
      ]
     },
     "execution_count": 94,
     "metadata": {},
     "output_type": "execute_result"
    }
   ],
   "source": [
    "alt.Chart(df).mark_point().encode(\n",
    "    x='measurement_datetime',\n",
    "    y='value_as_number'\n",
    ")"
   ]
  },
  {
   "cell_type": "code",
   "execution_count": 95,
   "metadata": {},
   "outputs": [
    {
     "data": {
      "application/vnd.vegalite.v2+json": {
       "$schema": "https://vega.github.io/schema/vega-lite/v2.6.0.json",
       "config": {
        "view": {
         "height": 300,
         "width": 400
        }
       },
       "data": {
        "name": "data-72972f12cb3c307de6773dca60cab207"
       },
       "datasets": {
        "data-72972f12cb3c307de6773dca60cab207": [
         {
          "measurement_datetime": "2018-05-24T18:21:16.796274",
          "value_as_number": 3.6828077503676853
         },
         {
          "measurement_datetime": "2018-05-25T00:21:16.796274",
          "value_as_number": 1.669150815295223
         },
         {
          "measurement_datetime": "2018-05-25T06:21:16.796274",
          "value_as_number": 0.40225394939406184
         },
         {
          "measurement_datetime": "2018-05-25T12:21:16.796274",
          "value_as_number": 2.1618514899351684
         },
         {
          "measurement_datetime": "2018-05-25T18:21:16.796274",
          "value_as_number": 0.75898537702446
         },
         {
          "measurement_datetime": "2018-05-26T00:21:16.796274",
          "value_as_number": 0.4626427621118754
         },
         {
          "measurement_datetime": "2018-05-26T06:21:16.796274",
          "value_as_number": 1.8819747535947304
         },
         {
          "measurement_datetime": "2018-05-26T12:21:16.796274",
          "value_as_number": 0.3527910082873761
         },
         {
          "measurement_datetime": "2018-05-26T18:21:16.796274",
          "value_as_number": 1.0402573063930762
         },
         {
          "measurement_datetime": "2018-05-27T00:21:16.796274",
          "value_as_number": 0.9185228582833237
         },
         {
          "measurement_datetime": "2018-05-27T06:21:16.796274",
          "value_as_number": 1.152806668204342
         },
         {
          "measurement_datetime": "2018-05-27T12:21:16.796274",
          "value_as_number": 3.306952136785797
         },
         {
          "measurement_datetime": "2018-05-27T18:21:16.796274",
          "value_as_number": 1.4588738437829518
         },
         {
          "measurement_datetime": "2018-05-28T00:21:16.796274",
          "value_as_number": 1.434320482861703
         },
         {
          "measurement_datetime": "2018-05-28T06:21:16.796274",
          "value_as_number": 3.7184604941235353
         },
         {
          "measurement_datetime": "2018-05-28T12:21:16.796274",
          "value_as_number": 1.568863444349247
         },
         {
          "measurement_datetime": "2018-05-28T18:21:16.796274",
          "value_as_number": 0.5540262374805222
         },
         {
          "measurement_datetime": "2018-05-29T00:21:16.796274",
          "value_as_number": 0.6085855270540396
         },
         {
          "measurement_datetime": "2018-05-29T06:21:16.796274",
          "value_as_number": 0.27535513464903066
         },
         {
          "measurement_datetime": "2018-05-29T12:21:16.796274",
          "value_as_number": 0.5676910861455038
         },
         {
          "measurement_datetime": "2018-05-29T18:21:16.796274",
          "value_as_number": 0.3218094278957671
         },
         {
          "measurement_datetime": "2018-05-30T00:21:16.796274",
          "value_as_number": 1.5766358306848463
         },
         {
          "measurement_datetime": "2018-05-30T06:21:16.796274",
          "value_as_number": 0.31907951599795675
         },
         {
          "measurement_datetime": "2018-05-30T12:21:16.796274",
          "value_as_number": 3.789604760164201
         },
         {
          "measurement_datetime": "2018-05-30T18:21:16.796274",
          "value_as_number": 1.3942463917823948
         },
         {
          "measurement_datetime": "2018-05-31T00:21:16.796274",
          "value_as_number": 4.56627582436968
         },
         {
          "measurement_datetime": "2018-05-31T06:21:16.796274",
          "value_as_number": 0.14966868937888383
         },
         {
          "measurement_datetime": "2018-05-31T12:21:16.796274",
          "value_as_number": 0.9651469401307868
         },
         {
          "measurement_datetime": "2018-05-24T18:21:16.796274",
          "value_as_number": 95.05538860158951
         },
         {
          "measurement_datetime": "2018-05-25T00:21:16.796274",
          "value_as_number": 95.00304585978775
         },
         {
          "measurement_datetime": "2018-05-25T06:21:16.796274",
          "value_as_number": 104.04633565713823
         },
         {
          "measurement_datetime": "2018-05-25T12:21:16.796274",
          "value_as_number": 82.1476588618095
         },
         {
          "measurement_datetime": "2018-05-25T18:21:16.796274",
          "value_as_number": 106.91164254677471
         },
         {
          "measurement_datetime": "2018-05-26T00:21:16.796274",
          "value_as_number": 76.31795135892207
         },
         {
          "measurement_datetime": "2018-05-26T06:21:16.796274",
          "value_as_number": 79.94310011449282
         },
         {
          "measurement_datetime": "2018-05-26T12:21:16.796274",
          "value_as_number": 92.72226540943
         },
         {
          "measurement_datetime": "2018-05-26T18:21:16.796274",
          "value_as_number": 82.48334360797023
         },
         {
          "measurement_datetime": "2018-05-27T00:21:16.796274",
          "value_as_number": 104.23278554256885
         },
         {
          "measurement_datetime": "2018-05-27T06:21:16.796274",
          "value_as_number": 91.68441371475815
         },
         {
          "measurement_datetime": "2018-05-27T12:21:16.796274",
          "value_as_number": 98.45935411185867
         },
         {
          "measurement_datetime": "2018-05-27T18:21:16.796274",
          "value_as_number": 108.77940616369848
         },
         {
          "measurement_datetime": "2018-05-28T00:21:16.796274",
          "value_as_number": 38.57374534748624
         },
         {
          "measurement_datetime": "2018-05-28T06:21:16.796274",
          "value_as_number": 66.53720608473884
         },
         {
          "measurement_datetime": "2018-05-28T12:21:16.796274",
          "value_as_number": 102.93045657604799
         },
         {
          "measurement_datetime": "2018-05-28T18:21:16.796274",
          "value_as_number": 96.7787552201131
         },
         {
          "measurement_datetime": "2018-05-29T00:21:16.796274",
          "value_as_number": 102.30271826563902
         },
         {
          "measurement_datetime": "2018-05-29T06:21:16.796274",
          "value_as_number": 118.31560578294267
         },
         {
          "measurement_datetime": "2018-05-29T12:21:16.796274",
          "value_as_number": 67.97990260914956
         },
         {
          "measurement_datetime": "2018-05-29T18:21:16.796274",
          "value_as_number": 100.7057284128213
         },
         {
          "measurement_datetime": "2018-05-30T00:21:16.796274",
          "value_as_number": 85.76715037371268
         },
         {
          "measurement_datetime": "2018-05-30T06:21:16.796274",
          "value_as_number": 65.88150861250324
         },
         {
          "measurement_datetime": "2018-05-30T12:21:16.796274",
          "value_as_number": 79.6359516259455
         },
         {
          "measurement_datetime": "2018-05-30T18:21:16.796274",
          "value_as_number": 89.57712048743294
         },
         {
          "measurement_datetime": "2018-05-31T00:21:16.796274",
          "value_as_number": 88.09664068726697
         },
         {
          "measurement_datetime": "2018-05-31T06:21:16.796274",
          "value_as_number": 93.82964873594167
         },
         {
          "measurement_datetime": "2018-05-31T12:21:16.796274",
          "value_as_number": 95.08941367231918
         }
        ]
       },
       "encoding": {
        "x": {
         "axis": {
          "title": "Time stamp"
         },
         "field": "measurement_datetime",
         "type": "temporal"
        },
        "y": {
         "field": "value_as_number",
         "type": "quantitative"
        }
       },
       "mark": "point"
      },
      "image/png": "[encoded data removed]",
      "text/plain": [
       "<VegaLite 2 object>\n",
       "\n",
       "If you see this message, it means the renderer has not been properly enabled\n",
       "for the frontend that you are using. For more information, see\n",
       "https://altair-viz.github.io/user_guide/troubleshooting.html\n"
      ]
     },
     "execution_count": 95,
     "metadata": {},
     "output_type": "execute_result"
    }
   ],
   "source": [
    "alt.Chart(df).mark_point().encode(\n",
    "    alt.X('measurement_datetime', axis=alt.Axis(title='Time stamp')),\n",
    "    y='value_as_number'\n",
    ")"
   ]
  },
  {
   "cell_type": "code",
   "execution_count": null,
   "metadata": {},
   "outputs": [],
   "source": []
  }
 ],
 "metadata": {
  "kernelspec": {
   "display_name": "Python 3",
   "language": "python",
   "name": "python3"
  },
  "language_info": {
   "codemirror_mode": {
    "name": "ipython",
    "version": 3
   },
   "file_extension": ".py",
   "mimetype": "text/x-python",
   "name": "python",
   "nbconvert_exporter": "python",
   "pygments_lexer": "ipython3",
   "version": "3.7.0"
  }
 },
 "nbformat": 4,
 "nbformat_minor": 2
}
