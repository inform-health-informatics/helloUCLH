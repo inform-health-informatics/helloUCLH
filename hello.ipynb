{
 "cells": [
  {
   "cell_type": "code",
   "execution_count": 4,
   "metadata": {},
   "outputs": [
    {
     "name": "stdout",
     "output_type": "stream",
     "text": [
      "# Demonstration of EMAP platform\n",
      "# - [ ] @TODO: (2019-02-01) play with ASCII art!\n",
      "import time\n",
      "\n",
      "the_boss = 'Dave'\n",
      "emap_principles = \"\"\"\n",
      "1. Protection of operational systems\n",
      "2. Protection of patient privacy: ",
      "   A 'code to data' rather than 'data to code' paradigm\n",
      "3. Near real-time over retrospective batch loads\n",
      "4. Interoperability for semantic collaboration\n",
      "5. Scalable through open source\n",
      "\"\"\"\n",
      "\n",
      "print('Hello', the_boss)\n",
      "response = input('Shall I continue? ')\n",
      "if response:\n",
      "    text = '\\nEMAP has been built for the NHS at UCLH according to the following principles ...\\n'\n",
      "    text = text + emap_principles\n",
      "    for l in text.splitlines():\n",
      "        time.sleep(0.3)\n",
      "        for c in list(l):\n",
      "            time.sleep(0.02)\n",
      "            print(c, end='', flush=True)\n",
      "        print('\\n', flush=True)\n",
      "\n",
      "\n",
      "time.sleep(1)\n",
      "print('Thank you and goodbye')\n",
      "\n"
     ]
    }
   ],
   "source": [
    "%cat helloUCLH.py"
   ]
  },
  {
   "cell_type": "code",
   "execution_count": 5,
   "metadata": {},
   "outputs": [
    {
     "name": "stdout",
     "output_type": "stream",
     "text": [
      "Hello Dave\n"
     ]
    },
    {
     "name": "stdin",
     "output_type": "stream",
     "text": [
      "Shall I continue?  yes\n"
     ]
    },
    {
     "name": "stdout",
     "output_type": "stream",
     "text": [
      "\n",
      "\n",
      "EMAP has been built for the NHS at UCLH according to the following principles ...\n",
      "\n",
      "\n",
      "\n",
      "1. Protection of operational systems\n",
      "\n",
      "2. Protection of patient privacy:\n",
      "\n",
      "   A 'code to data' rather than 'data to code' paradigm\n",
      "\n",
      "3. Near real-time over retrospective batch loads\n",
      "\n",
      "4. Interoperability for semantic collaboration\n",
      "\n",
      "5. Scalable through open source\n",
      "\n",
      "Thank you and goodbye\n"
     ]
    }
   ],
   "source": [
    "%run helloUCLH.py"
   ]
  },
  {
   "cell_type": "code",
   "execution_count": null,
   "metadata": {},
   "outputs": [],
   "source": []
  }
 ],
 "metadata": {
  "kernelspec": {
   "display_name": "Python 3",
   "language": "python",
   "name": "python3"
  },
  "language_info": {
   "codemirror_mode": {
    "name": "ipython",
    "version": 3
   },
   "file_extension": ".py",
   "mimetype": "text/x-python",
   "name": "python",
   "nbconvert_exporter": "python",
   "pygments_lexer": "ipython3",
   "version": "3.7.0"
  }
 },
 "nbformat": 4,
 "nbformat_minor": 2
}
